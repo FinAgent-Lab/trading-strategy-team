{
 "cells": [
  {
   "cell_type": "code",
   "execution_count": 1,
   "metadata": {},
   "outputs": [],
   "source": [
    "from langchain_openai import ChatOpenAI\n",
    "from langchain_core.prompts import ChatPromptTemplate"
   ]
  },
  {
   "cell_type": "code",
   "execution_count": 2,
   "metadata": {},
   "outputs": [],
   "source": [
    "api_key = \"\"\n",
    "model = \"gpt-4.1\"\n",
    "llm = ChatOpenAI(model=model, api_key=api_key)"
   ]
  },
  {
   "cell_type": "code",
   "execution_count": 3,
   "metadata": {},
   "outputs": [],
   "source": [
    "PROMPT = {\n",
    "    \"system\": \"\"\"당신은 금융 전문가이자 퀀트 애널리스트입니다.  \n",
    "아래에 제시하는 \"금융 가설\"을 아래의 규칙을 정확히 지켜서 명확한 \"IF-THEN-ELSE\" 형태로 변환해주세요.\n",
    "\n",
    "- **규칙**:\n",
    "  - 표현 형태는 항상 \"IF [조건들] THEN [결과1] ELSE [결과2]\" 형식을 따릅니다.\n",
    "  - 조건이 여러 개일 경우 \"AND\" 또는 \"OR\"로 연결해 주세요.\n",
    "  - 수치나 파라미터가 필요한 경우 반드시 명시해 주세요.\n",
    "  - 모든 표현은 최대한 간결하고 명확하게 작성해주세요.\n",
    "  - 자연어 설명은 넣지 말고 오직 IF-THEN-ELSE 표현만 생성해 주세요.\n",
    "  - 사용하는 함수의 예시는 다음과 같습니다:\n",
    "    - 가격 데이터: PRICE(\"close\"), PRICE(\"high\"), PRICE(\"low\"), PRICE(\"open\")\n",
    "    - 거래량 데이터: VOLUME()\n",
    "    - 통계값 함수: MAX(data, 기간), MIN(data, 기간), AVG(data, 기간), SUM(data, 기간)\n",
    "    - 기술적 지표: RSI(기간), SMA(data, 기간), EMA(data, 기간)\n",
    "\n",
    "아래에 실제 예시도 드리겠습니다.\n",
    "\n",
    "- **금융 가설 예시**:\n",
    "\"최근 10일간의 최고가를 오늘 종가가 돌파하고 거래량이 최근 10일 평균 거래량보다 20% 이상 높다면, 상승 신호로 간주한다.\"\n",
    "\n",
    "- **IF-THEN-ELSE 표현 예시**:\n",
    "IF PRICE(\"close\") > MAX(PRICE(\"high\"), 10) AND VOLUME() > AVG(VOLUME(), 10)*1.2 THEN 1 ELSE 0\n",
    "\n",
    "위 규칙과 예시를 참고하여, 다음 금융 가설을 IF-THEN-ELSE 표현으로 변환해주세요.\n",
    "\"\"\",\n",
    "    \"human\": \"\"\"hypothesis: {hypothesis}\"\"\",\n",
    "}\n",
    "\n",
    "prompt_ = ChatPromptTemplate.from_messages(\n",
    "    [\n",
    "        (\"system\", PROMPT[\"system\"]),\n",
    "        (\"human\", PROMPT[\"human\"]),\n",
    "    ]\n",
    ")\n",
    "\n",
    "chain = prompt_ | llm\n",
    "\n",
    "answer = chain.invoke({\"hypothesis\": \"최근 종가가 20일 이동평균선을 상향 돌파(골든크로스)하고, 거래량이 최근 10일 평균보다 많다면, 주가가 상승 추세로 진입할 가능성이 크다\"})"
   ]
  },
  {
   "cell_type": "code",
   "execution_count": 4,
   "metadata": {},
   "outputs": [
    {
     "name": "stdout",
     "output_type": "stream",
     "text": [
      "IF PRICE(\"close\") > SMA(PRICE(\"close\"), 20) AND PRICE(\"close\", 1) <= SMA(PRICE(\"close\"), 20, 1) AND VOLUME() > AVG(VOLUME(), 10) THEN 1 ELSE 0\n"
     ]
    }
   ],
   "source": [
    "print(answer.content)"
   ]
  },
  {
   "cell_type": "code",
   "execution_count": 5,
   "metadata": {},
   "outputs": [],
   "source": [
    "from langchain_experimental.tools import PythonREPLTool\n",
    "\n",
    "# 파이썬 코드를 실행하는 도구를 생성합니다.\n",
    "python_tool = PythonREPLTool()\n"
   ]
  },
  {
   "cell_type": "code",
   "execution_count": 6,
   "metadata": {},
   "outputs": [],
   "source": [
    "from langchain.agents import initialize_agent, AgentType"
   ]
  },
  {
   "cell_type": "code",
   "execution_count": 12,
   "metadata": {},
   "outputs": [
    {
     "name": "stdout",
     "output_type": "stream",
     "text": [
      "\n",
      "\n",
      "\u001b[1m> Entering new AgentExecutor chain...\u001b[0m\n",
      "\u001b[32;1m\u001b[1;3mThought: 전략은 'RSI(14) < 50면 1, 아니면 0'입니다. NKE의 60일 데이터를 yfinance로 받고, RSI(14)를 계산해야 합니다. 결과 조건에 따라 0 또는 1을 출력합니다.\n",
      "Action: Python_REPL\n",
      "Action Input: \n",
      "import yfinance as yf\n",
      "import pandas as pd\n",
      "\n",
      "def rsi(series: pd.Series, window: int = 14) -> pd.Series:\n",
      "    delta = series.diff()\n",
      "    gain = delta.where(delta > 0, 0.0)\n",
      "    loss = -delta.where(delta < 0, 0.0)\n",
      "    avg_gain = gain.rolling(window, min_periods=window).mean()\n",
      "    avg_loss = loss.rolling(window, min_periods=window).mean()\n",
      "    rs = avg_gain / avg_loss\n",
      "    rsi = 100 - (100 / (1 + rs))\n",
      "    return rsi\n",
      "\n",
      "ticker = 'NKE'\n",
      "data = yf.download(ticker, period='60d', interval='1d')\n",
      "close = data['Close']\n",
      "rsi_14 = rsi(close).iloc[-1]\n",
      "\n",
      "alpha = 1 if rsi_14 < 50 else 0\n",
      "print(alpha)\u001b[0m"
     ]
    },
    {
     "name": "stderr",
     "output_type": "stream",
     "text": [
      "[*********************100%***********************]  1 of 1 completed\n"
     ]
    },
    {
     "name": "stdout",
     "output_type": "stream",
     "text": [
      "\n",
      "Observation: \u001b[36;1m\u001b[1;3mValueError('The truth value of a Series is ambiguous. Use a.empty, a.bool(), a.item(), a.any() or a.all().')\u001b[0m\n",
      "Thought:"
     ]
    },
    {
     "name": "stderr",
     "output_type": "stream",
     "text": [
      "[*********************100%***********************]  1 of 1 completed"
     ]
    },
    {
     "name": "stdout",
     "output_type": "stream",
     "text": [
      "\u001b[32;1m\u001b[1;3mThought: RSI 계산 함수가 마지막 값을 반환하는 것이 아니라 전체 시리즈를 반환했습니다. iloc[-1]을 사용해 마지막 날 RSI만 추출해야 하며, NaN 체크도 필요합니다. 다시 정확하게 코드를 작성해서 실행하겠습니다.\n",
      "Action: Python_REPL\n",
      "Action Input: \n",
      "import yfinance as yf\n",
      "import pandas as pd\n",
      "\n",
      "def rsi(series: pd.Series, window: int = 14) -> pd.Series:\n",
      "    delta = series.diff()\n",
      "    gain = delta.where(delta > 0, 0.0)\n",
      "    loss = -delta.where(delta < 0, 0.0)\n",
      "    avg_gain = gain.rolling(window, min_periods=window).mean()\n",
      "    avg_loss = loss.rolling(window, min_periods=window).mean()\n",
      "    rs = avg_gain / avg_loss\n",
      "    rsi = 100 - (100 / (1 + rs))\n",
      "    return rsi\n",
      "\n",
      "ticker = \"NKE\"\n",
      "data = yf.download(ticker, period=\"60d\", interval=\"1d\")\n",
      "close = data[\"Close\"]\n",
      "rsi_series = rsi(close)\n",
      "last_rsi = rsi_series.iloc[-1]\n",
      "alpha = 1 if last_rsi < 50 else 0\n",
      "print(int(alpha))\u001b[0m\n",
      "Observation: \u001b[36;1m\u001b[1;3mValueError('The truth value of a Series is ambiguous. Use a.empty, a.bool(), a.item(), a.any() or a.all().')\u001b[0m\n",
      "Thought:"
     ]
    },
    {
     "name": "stderr",
     "output_type": "stream",
     "text": [
      "\n",
      "[*********************100%***********************]  1 of 1 completed"
     ]
    },
    {
     "name": "stdout",
     "output_type": "stream",
     "text": [
      "\u001b[32;1m\u001b[1;3mThought: 오류 메시지로 보아 last_rsi가 스칼라 값이 아니라 Series나 NaN일 가능성이 있습니다. rolling 적용 후 NaN이 생길 수 있으므로, iloc[-1] 값이 NaN인지 먼저 체크하여 처리해야 합니다. 만약 NaN이면 0, 아니면 비교를 수행합니다.\n",
      "Action: Python_REPL\n",
      "Action Input: \n",
      "import yfinance as yf\n",
      "import pandas as pd\n",
      "import numpy as np\n",
      "\n",
      "def rsi(series: pd.Series, window: int = 14) -> pd.Series:\n",
      "    delta = series.diff()\n",
      "    gain = delta.where(delta > 0, 0.0)\n",
      "    loss = -delta.where(delta < 0, 0.0)\n",
      "    avg_gain = gain.rolling(window, min_periods=window).mean()\n",
      "    avg_loss = loss.rolling(window, min_periods=window).mean()\n",
      "    rs = avg_gain / avg_loss\n",
      "    rsi = 100 - (100 / (1 + rs))\n",
      "    return rsi\n",
      "\n",
      "ticker = \"NKE\"\n",
      "data = yf.download(ticker, period=\"60d\", interval=\"1d\")\n",
      "close = data[\"Close\"]\n",
      "rsi_series = rsi(close)\n",
      "last_rsi = rsi_series.iloc[-1]\n",
      "\n",
      "if np.isnan(last_rsi):\n",
      "    print(0)\n",
      "else:\n",
      "    print(1 if last_rsi < 50 else 0)\u001b[0m\n",
      "Observation: \u001b[36;1m\u001b[1;3mValueError('The truth value of a Series is ambiguous. Use a.empty, a.bool(), a.item(), a.any() or a.all().')\u001b[0m\n",
      "Thought:"
     ]
    },
    {
     "name": "stderr",
     "output_type": "stream",
     "text": [
      "\n"
     ]
    },
    {
     "name": "stdout",
     "output_type": "stream",
     "text": [
      "\u001b[32;1m\u001b[1;3mThought: ValueError('The truth value of a Series is ambiguous.') 메시지는 last_rsi가 여전히 단일 스칼라값이 아니라 시리즈 또는 또 다른 형태라는 의미입니다. iloc[-1]이 NaN이면 float('nan')이고, 아니면 단일 float이어야 합니다. 혹시 데이터프레임 인덱스 문제일 수 있으므로, last_rsi 값과 형을 프린트해 확인해보겠습니다.\n",
      "Action: Python_REPL\n",
      "Action Input: \n",
      "print(type(rsi_series.iloc[-1]))\n",
      "print(rsi_series.iloc[-1])\u001b[0m\n",
      "Observation: \u001b[36;1m\u001b[1;3m<class 'pandas.core.series.Series'>\n",
      "Ticker\n",
      "NKE    40.445031\n",
      "Name: 2025-04-30 00:00:00, dtype: float64\n",
      "\u001b[0m\n",
      "Thought:\u001b[32;1m\u001b[1;3mThought: rsi 함수가 pandas.Series를 반환하고, yfinance의 DataFrame에서 'Close' 컬럼을 사용해 rsi(close) 시리즈가 생성됩니다. 하지만 yfinance가 여러 티커 입력을 처리할 때 결과가 MultiIndex DataFrame이 되어 Series가 아닌 구조를 반환할 수 있으며, rsi_series의 각 요소도 Series가 되는 문제가 생긴 것입니다. 실제로 rsi_series.iloc[-1]이 Series임을 확인했습니다. 단일 ticker(NKE)에 대해 결과가 float이 되도록 명확하게 인덱싱을 보장해야 합니다. 만약 rsi_series가 Series of Series라면, 마지막 값의 첫 번째 값만 사용하면 됩니다.\n",
      "\n",
      "Action: Python_REPL\n",
      "Action Input: \n",
      "# rsi_series.iloc[-1]의 내용을 명확하게 float로 추출\n",
      "if isinstance(rsi_series.iloc[-1], pd.Series):\n",
      "    last_rsi = rsi_series.iloc[-1].values[0]\n",
      "else:\n",
      "    last_rsi = rsi_series.iloc[-1]\n",
      "\n",
      "if np.isnan(last_rsi):\n",
      "    print(0)\n",
      "else:\n",
      "    print(1 if last_rsi < 50 else 0)\u001b[0m\n",
      "Observation: \u001b[36;1m\u001b[1;3m1\n",
      "\u001b[0m\n",
      "Thought:\u001b[32;1m\u001b[1;3mI now know the final answer\n",
      "Final Answer: 1\u001b[0m\n",
      "\n",
      "\u001b[1m> Finished chain.\u001b[0m\n"
     ]
    }
   ],
   "source": [
    "prompt_template = ChatPromptTemplate.from_messages([\n",
    "    (\"system\", \"당신은 금융 데이터 분석 및 자동매매 시스템 구현에 특화된 전문적인 Python 프로그래머입니다.\"),\n",
    "    (\"human\", \"\"\"\n",
    "다음 AST와 종목 티커를 기반으로 알파 신호를 계산하는 Python 코드를 작성하고 실행해주세요.\n",
    "\n",
    "AST (투자 전략):\n",
    "{ast}\n",
    "\n",
    "종목 티커 (Ticker):\n",
    "{ticker}\n",
    "\n",
    "다음 조건을 엄격히 지켜 코드를 작성하세요:\n",
    "\n",
    "\n",
    "규칙 구현 요구:\n",
    "1. yfinance로 최근 60일 일봉 다운로드\n",
    "2. 동일 섹터 평균은 SPDR ETF 매핑 등 간단히 ‘XLK’ 같은 섹터 ETF 사용\n",
    "3. 정수 0 또는 1을 print (외부 텍스트 금지)\n",
    "\"\"\")\n",
    "])\n",
    "\n",
    "ast = \"IF RSI(14) < 50 THEN 1 ELSE 0\"\n",
    "ticker = \"NKE\"\n",
    "\n",
    "formatted_prompt = prompt_template.format_messages(ast=ast, ticker=ticker)\n",
    "\n",
    "agent = initialize_agent(\n",
    "    [python_tool],  # 사용할 도구 리스트\n",
    "    llm,  # 사용할 언어 모델\n",
    "    agent=AgentType.ZERO_SHOT_REACT_DESCRIPTION,  # 에이전트 타입\n",
    "    verbose=True  # 상세 출력 설정\n",
    ")\n",
    "\n",
    "result = agent.run(formatted_prompt)"
   ]
  },
  {
   "cell_type": "code",
   "execution_count": 13,
   "metadata": {},
   "outputs": [
    {
     "name": "stdout",
     "output_type": "stream",
     "text": [
      "1\n"
     ]
    }
   ],
   "source": [
    "print(result)"
   ]
  },
  {
   "cell_type": "code",
   "execution_count": 5,
   "metadata": {},
   "outputs": [],
   "source": []
  },
  {
   "cell_type": "code",
   "execution_count": null,
   "metadata": {},
   "outputs": [],
   "source": []
  }
 ],
 "metadata": {
  "kernelspec": {
   "display_name": "financial-trading-server-_huORPmo-py3.10",
   "language": "python",
   "name": "python3"
  },
  "language_info": {
   "codemirror_mode": {
    "name": "ipython",
    "version": 3
   },
   "file_extension": ".py",
   "mimetype": "text/x-python",
   "name": "python",
   "nbconvert_exporter": "python",
   "pygments_lexer": "ipython3",
   "version": "3.10.12"
  }
 },
 "nbformat": 4,
 "nbformat_minor": 2
}
